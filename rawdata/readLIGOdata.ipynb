{
 "cells": [
  {
   "cell_type": "markdown",
   "metadata": {},
   "source": [
    "# Reading in LIGO data for GW170817\n",
    "\n",
    "*I grabbed figure 1 from here : https://www.ligo.org/detections/GW170817/paper/GW170817-PRLpublished.pdf , saved as LIGO.png,  and used WebPlotDigitier: https://apps.automeris.io/wpd/, and saved as digitized.csv.\n",
    "\n",
    "*Now I want to interpolate and return a smooth clean curve*"
   ]
  },
  {
   "cell_type": "code",
   "execution_count": 1,
   "metadata": {},
   "outputs": [],
   "source": [
    "import pandas as pd\n",
    "import numpy as np\n",
    "from scipy.interpolate import InterpolatedUnivariateSpline\n",
    "from scipy.optimize import curve_fit\n",
    "\n",
    "import matplotlib.pyplot as plt\n",
    "%matplotlib notebook"
   ]
  },
  {
   "cell_type": "code",
   "execution_count": 2,
   "metadata": {},
   "outputs": [
    {
     "data": {
      "text/html": [
       "<div>\n",
       "<style scoped>\n",
       "    .dataframe tbody tr th:only-of-type {\n",
       "        vertical-align: middle;\n",
       "    }\n",
       "\n",
       "    .dataframe tbody tr th {\n",
       "        vertical-align: top;\n",
       "    }\n",
       "\n",
       "    .dataframe thead th {\n",
       "        text-align: right;\n",
       "    }\n",
       "</style>\n",
       "<table border=\"1\" class=\"dataframe\">\n",
       "  <thead>\n",
       "    <tr style=\"text-align: right;\">\n",
       "      <th></th>\n",
       "      <th>t</th>\n",
       "      <th>f</th>\n",
       "    </tr>\n",
       "  </thead>\n",
       "  <tbody>\n",
       "    <tr>\n",
       "      <th>7</th>\n",
       "      <td>-27.755022</td>\n",
       "      <td>37.571047</td>\n",
       "    </tr>\n",
       "    <tr>\n",
       "      <th>8</th>\n",
       "      <td>-25.823567</td>\n",
       "      <td>38.517856</td>\n",
       "    </tr>\n",
       "    <tr>\n",
       "      <th>9</th>\n",
       "      <td>-24.138519</td>\n",
       "      <td>39.488526</td>\n",
       "    </tr>\n",
       "    <tr>\n",
       "      <th>10</th>\n",
       "      <td>-21.548286</td>\n",
       "      <td>41.849617</td>\n",
       "    </tr>\n",
       "    <tr>\n",
       "      <th>11</th>\n",
       "      <td>-18.795053</td>\n",
       "      <td>43.261667</td>\n",
       "    </tr>\n",
       "    <tr>\n",
       "      <th>12</th>\n",
       "      <td>-17.149802</td>\n",
       "      <td>45.469573</td>\n",
       "    </tr>\n",
       "    <tr>\n",
       "      <th>13</th>\n",
       "      <td>-15.012585</td>\n",
       "      <td>47.003763</td>\n",
       "    </tr>\n",
       "    <tr>\n",
       "      <th>14</th>\n",
       "      <td>-13.530758</td>\n",
       "      <td>50.229185</td>\n",
       "    </tr>\n",
       "    <tr>\n",
       "      <th>15</th>\n",
       "      <td>-12.462150</td>\n",
       "      <td>51.069547</td>\n",
       "    </tr>\n",
       "    <tr>\n",
       "      <th>0</th>\n",
       "      <td>-11.215022</td>\n",
       "      <td>52.146935</td>\n",
       "    </tr>\n",
       "    <tr>\n",
       "      <th>1</th>\n",
       "      <td>-10.785878</td>\n",
       "      <td>52.610465</td>\n",
       "    </tr>\n",
       "    <tr>\n",
       "      <th>16</th>\n",
       "      <td>-8.758007</td>\n",
       "      <td>59.788524</td>\n",
       "    </tr>\n",
       "    <tr>\n",
       "      <th>17</th>\n",
       "      <td>-7.441299</td>\n",
       "      <td>62.839897</td>\n",
       "    </tr>\n",
       "    <tr>\n",
       "      <th>18</th>\n",
       "      <td>-6.288438</td>\n",
       "      <td>66.597209</td>\n",
       "    </tr>\n",
       "    <tr>\n",
       "      <th>2</th>\n",
       "      <td>-5.506038</td>\n",
       "      <td>68.524908</td>\n",
       "    </tr>\n",
       "    <tr>\n",
       "      <th>3</th>\n",
       "      <td>-4.884118</td>\n",
       "      <td>71.752801</td>\n",
       "    </tr>\n",
       "    <tr>\n",
       "      <th>4</th>\n",
       "      <td>-4.365693</td>\n",
       "      <td>74.790285</td>\n",
       "    </tr>\n",
       "    <tr>\n",
       "      <th>19</th>\n",
       "      <td>-3.484398</td>\n",
       "      <td>83.317333</td>\n",
       "    </tr>\n",
       "    <tr>\n",
       "      <th>20</th>\n",
       "      <td>-2.987775</td>\n",
       "      <td>89.776321</td>\n",
       "    </tr>\n",
       "    <tr>\n",
       "      <th>5</th>\n",
       "      <td>-2.391974</td>\n",
       "      <td>94.143823</td>\n",
       "    </tr>\n",
       "    <tr>\n",
       "      <th>6</th>\n",
       "      <td>-1.909232</td>\n",
       "      <td>101.783184</td>\n",
       "    </tr>\n",
       "    <tr>\n",
       "      <th>21</th>\n",
       "      <td>-1.412805</td>\n",
       "      <td>119.031444</td>\n",
       "    </tr>\n",
       "    <tr>\n",
       "      <th>22</th>\n",
       "      <td>-0.913641</td>\n",
       "      <td>134.804930</td>\n",
       "    </tr>\n",
       "    <tr>\n",
       "      <th>23</th>\n",
       "      <td>-0.577055</td>\n",
       "      <td>157.819840</td>\n",
       "    </tr>\n",
       "    <tr>\n",
       "      <th>24</th>\n",
       "      <td>-0.362402</td>\n",
       "      <td>189.420177</td>\n",
       "    </tr>\n",
       "    <tr>\n",
       "      <th>25</th>\n",
       "      <td>-0.147749</td>\n",
       "      <td>227.347864</td>\n",
       "    </tr>\n",
       "    <tr>\n",
       "      <th>26</th>\n",
       "      <td>-0.099483</td>\n",
       "      <td>261.782630</td>\n",
       "    </tr>\n",
       "  </tbody>\n",
       "</table>\n",
       "</div>"
      ],
      "text/plain": [
       "            t           f\n",
       "7  -27.755022   37.571047\n",
       "8  -25.823567   38.517856\n",
       "9  -24.138519   39.488526\n",
       "10 -21.548286   41.849617\n",
       "11 -18.795053   43.261667\n",
       "12 -17.149802   45.469573\n",
       "13 -15.012585   47.003763\n",
       "14 -13.530758   50.229185\n",
       "15 -12.462150   51.069547\n",
       "0  -11.215022   52.146935\n",
       "1  -10.785878   52.610465\n",
       "16  -8.758007   59.788524\n",
       "17  -7.441299   62.839897\n",
       "18  -6.288438   66.597209\n",
       "2   -5.506038   68.524908\n",
       "3   -4.884118   71.752801\n",
       "4   -4.365693   74.790285\n",
       "19  -3.484398   83.317333\n",
       "20  -2.987775   89.776321\n",
       "5   -2.391974   94.143823\n",
       "6   -1.909232  101.783184\n",
       "21  -1.412805  119.031444\n",
       "22  -0.913641  134.804930\n",
       "23  -0.577055  157.819840\n",
       "24  -0.362402  189.420177\n",
       "25  -0.147749  227.347864\n",
       "26  -0.099483  261.782630"
      ]
     },
     "execution_count": 2,
     "metadata": {},
     "output_type": "execute_result"
    }
   ],
   "source": [
    "df = pd.read_csv('digitized.csv')\n",
    "df.sort_values(by=\"t\", inplace=True)\n",
    "df['t'] -= 0.5\n",
    "df"
   ]
  },
  {
   "cell_type": "markdown",
   "metadata": {},
   "source": [
    "*Fit a simple powerlaw to these data points to get a smooth curve*"
   ]
  },
  {
   "cell_type": "code",
   "execution_count": 5,
   "metadata": {
    "scrolled": false
   },
   "outputs": [
    {
     "name": "stdout",
     "output_type": "stream",
     "text": [
      "[2.16553891e-06 3.73532977e-01]\n"
     ]
    },
    {
     "name": "stderr",
     "output_type": "stream",
     "text": [
      "C:\\ProgramData\\Anaconda3\\lib\\site-packages\\ipykernel_launcher.py:2: RuntimeWarning: invalid value encountered in power\n",
      "  \n"
     ]
    },
    {
     "data": {
      "text/plain": [
       "[<matplotlib.lines.Line2D at 0x1b7f7162128>]"
      ]
     },
     "execution_count": 5,
     "metadata": {},
     "output_type": "execute_result"
    },
    {
     "data": {
      "image/png": "[encoded data removed]",
      "text/plain": [
       "<matplotlib.figure.Figure at 0x1b7f6d5e400>"
      ]
     },
     "metadata": {},
     "output_type": "display_data"
    }
   ],
   "source": [
    "def func(x, a, b):\n",
    "    return (-a*x)**b\n",
    "\n",
    "period = 1./df['f'].values\n",
    "tArr = np.linspace(-30, 0, 100)\n",
    "\n",
    "popt, pcov = curve_fit(func, df['t'].values, period)\n",
    "print(popt)\n",
    "pFit = func(tArr, *popt)\n",
    "\n",
    "f,ax= plt.subplots()\n",
    "ax.plot(df['t'].values, period, '.')\n",
    "plt.plot(tArr, pFit)"
   ]
  },
  {
   "cell_type": "markdown",
   "metadata": {},
   "source": [
    "*Write this to a \"raw\" file*"
   ]
  },
  {
   "cell_type": "code",
   "execution_count": 4,
   "metadata": {},
   "outputs": [],
   "source": [
    "import csv\n",
    "csvfile = open(\"GW170817_period.raw\", 'wt')\n",
    "csvwriter = csv.writer(csvfile, delimiter=' ', quotechar='|', quoting=csv.QUOTE_MINIMAL)\n",
    "for i in range(len(tArr)):\n",
    "    csvwriter.writerow([tArr[i],pFit[i], 3., 4., 5., 6., 7., 8., 9.])\n",
    "csvfile.close()"
   ]
  }
 ],
 "metadata": {
  "kernelspec": {
   "display_name": "Python 3",
   "language": "python",
   "name": "python3"
  },
  "language_info": {
   "codemirror_mode": {
    "name": "ipython",
    "version": 3
   },
   "file_extension": ".py",
   "mimetype": "text/x-python",
   "name": "python",
   "nbconvert_exporter": "python",
   "pygments_lexer": "ipython3",
   "version": "3.6.4"
  }
 },
 "nbformat": 4,
 "nbformat_minor": 2
}
