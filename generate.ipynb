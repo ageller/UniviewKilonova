{
 "cells": [
  {
   "cell_type": "markdown",
   "metadata": {},
   "source": [
    "# Uniview module for LIGO event GW170817\n",
    "\n",
    "*Aaron Geller, 2018*\n",
    "\n",
    "### Imports and function definitions"
   ]
  },
  {
   "cell_type": "code",
   "execution_count": 1,
   "metadata": {},
   "outputs": [],
   "source": [
    "#This directory contains all the data needed for the module. It should be in the same directory as the notebook\n",
    "dataFolder = \"data\" \n",
    "import sys, os, shutil, errno, string, urllib\n",
    "\n",
    "\n",
    "sys.path.append(( os.path.abspath( os.path.join(os.path.realpath(\"__file__\"),  os.pardir, os.pardir) )))\n",
    "import uvmodlib.v1 as uvmod"
   ]
  },
  {
   "cell_type": "markdown",
   "metadata": {},
   "source": [
    "### USES Conf Template "
   ]
  },
  {
   "cell_type": "code",
   "execution_count": 198,
   "metadata": {},
   "outputs": [],
   "source": [
    "Template = \"\"\"mesh\n",
    "{  \n",
    "    data center    ./modules/$folderName/center.raw #I get errors if I don't pass something to geometry??\n",
    "    data GRB    ./modules/$folderName/GRB.raw\n",
    "\n",
    "    cullRadius $cr\n",
    "    glslVersion 330\n",
    "    \n",
    "    propertyCollection \n",
    "    {        \n",
    "        __objectName__\n",
    "        {           \n",
    "\n",
    "            vec2f pfit 1.38504943e-05 3.73532968e-01\n",
    "            vec1f eventTime -0.1 | public | desc \"event time \" | widget slider | range -30 30\n",
    "            vec1f NSrad 10 | public | desc \"NS radius \" | widget slider | range 0 100\n",
    "            vec1f GWrad 500 | public | desc \"GW plane size \" | widget slider | range 0 5000\n",
    "            vec1f kilonovaRad 1000 | public | desc \"kilonova max radius \" | widget slider | range 0 1e5\n",
    "            vec1f kilonovaMaxT 0.1 | public | desc \"time at max kilonova radius \" | widget slider | range 0 1\n",
    "            vec1f GRBrad 0.4 | public | desc \"GRB point radius \" | widget slider | range 0 2\n",
    "            vec1f GRBspeed 50 | public | desc \"GRB speed \" | widget slider | range 0 1000\n",
    "            vec1f GRBMaxT 1 | public | desc \"GRB fade time\" | widget slider | range 0 10\n",
    "\n",
    "        }\n",
    "    }\n",
    "    ############# gravitation waves\n",
    "    pass\n",
    "    {\n",
    "        useDataObject center\n",
    "        shader\n",
    "        {\n",
    "            type defaultMeshShader\n",
    "            {\n",
    "                geometryShader   ./modules/$folderName/GW.gs\n",
    "                vertexShader ./modules/$folderName/kilonova.vs\n",
    "                fragmentShader   ./modules/$folderName/GW.fs\n",
    "                \n",
    "                stateManagerVar __objectName__.eventTime  eventTime                \n",
    "                stateManagerVar __objectName__.pfit  pfit\n",
    "                stateManagerVar __objectName__.GWrad  GWrad\n",
    "\n",
    "                \n",
    "                glState\n",
    "                {\n",
    "                    UV_CULL_FACE_ENABLE false\n",
    "                    UV_BLEND_ENABLE true\n",
    "                    UV_DEPTH_ENABLE false\n",
    "                    UV_WRITE_MASK_DEPTH true\n",
    "                    UV_BLEND_FUNC GL_SRC_ALPHA GL_ONE_MINUS_SRC_ALPHA\n",
    "                }\n",
    "            }\n",
    "\n",
    "        }    \n",
    "    }\n",
    "    ############# NS 1\n",
    "    pass\n",
    "    {\n",
    "        useDataObject center\n",
    "        shader\n",
    "        {\n",
    "            type defaultMeshShader\n",
    "            {\n",
    "                geometryShader   ./modules/$folderName/NS.gs\n",
    "                vertexShader ./modules/$folderName/kilonova.vs\n",
    "                fragmentShader   ./modules/$folderName/NS.fs\n",
    "                parameter1f starNum 1. \n",
    "                \n",
    "                stateManagerVar __objectName__.eventTime  eventTime\n",
    "                stateManagerVar __objectName__.pfit  pfit\n",
    "                stateManagerVar __objectName__.NSrad  NSrad\n",
    "                \n",
    "                glState\n",
    "                {\n",
    "                    UV_CULL_FACE_ENABLE false\n",
    "                    UV_BLEND_ENABLE true\n",
    "                    UV_DEPTH_ENABLE false\n",
    "                    UV_WRITE_MASK_DEPTH true\n",
    "                    UV_BLEND_FUNC GL_SRC_ALPHA GL_ONE_MINUS_SRC_ALPHA\n",
    "                }\n",
    "            }\n",
    "\n",
    "        }    \n",
    "    }\n",
    "    ############# NS 2\n",
    "    pass\n",
    "    {\n",
    "        useDataObject center\n",
    "        shader\n",
    "        {\n",
    "            type defaultMeshShader\n",
    "            {\n",
    "                geometryShader   ./modules/$folderName/NS.gs\n",
    "                vertexShader ./modules/$folderName/kilonova.vs\n",
    "                fragmentShader   ./modules/$folderName/NS.fs\n",
    "                parameter1f starNum 2. \n",
    "\n",
    "                stateManagerVar __objectName__.eventTime  eventTime\n",
    "                stateManagerVar __objectName__.pfit  pfit\n",
    "                stateManagerVar __objectName__.NSrad  NSrad\n",
    "                \n",
    "                glState\n",
    "                {\n",
    "                    UV_CULL_FACE_ENABLE false\n",
    "                    UV_BLEND_ENABLE true\n",
    "                    UV_DEPTH_ENABLE false\n",
    "                    UV_WRITE_MASK_DEPTH true\n",
    "                    UV_BLEND_FUNC GL_SRC_ALPHA GL_ONE_MINUS_SRC_ALPHA\n",
    "                }\n",
    "            }\n",
    "\n",
    "        }    \n",
    "    }\n",
    "    ############# NS 1 \"corona\"\n",
    "    ############# NS 2 \"corona\"\n",
    "\n",
    "    ############# GRB\n",
    "    pass\n",
    "    {\n",
    "        useDataObject GRB\n",
    "        shader\n",
    "        {\n",
    "            type defaultMeshShader\n",
    "            {\n",
    "                geometryShader   ./modules/$folderName/GRB.gs\n",
    "                vertexShader ./modules/$folderName/kilonova.vs\n",
    "                fragmentShader   ./modules/$folderName/GRB.fs\n",
    "                \n",
    "                stateManagerVar __objectName__.eventTime  eventTime\n",
    "                stateManagerVar __objectName__.GRBrad  GRBrad\n",
    "                stateManagerVar __objectName__.GRBspeed  GRBspeed\n",
    "                stateManagerVar __objectName__.GRBMaxT  GRBMaxT\n",
    "                \n",
    "                glState\n",
    "                {\n",
    "                    UV_CULL_FACE_ENABLE false\n",
    "                    UV_BLEND_ENABLE true\n",
    "                    UV_DEPTH_ENABLE false\n",
    "                    UV_WRITE_MASK_DEPTH true\n",
    "                    UV_BLEND_FUNC GL_SRC_ALPHA GL_ONE_MINUS_SRC_ALPHA\n",
    "                }\n",
    "            }\n",
    "\n",
    "        }    \n",
    "    }\n",
    "    ############# kilonova\n",
    "    pass\n",
    "    {\n",
    "        useDataObject center\n",
    "        shader\n",
    "        {\n",
    "            type defaultMeshShader\n",
    "            {\n",
    "                geometryShader   ./modules/$folderName/kilonova.gs\n",
    "                vertexShader ./modules/$folderName/kilonova.vs\n",
    "                fragmentShader   ./modules/$folderName/kilonova.fs\n",
    "                \n",
    "                stateManagerVar __objectName__.eventTime  eventTime\n",
    "                stateManagerVar __objectName__.kilonovaRad  kilonovaRad\n",
    "                stateManagerVar __objectName__.kilonovaMaxT  kilonovaMaxT\n",
    "                \n",
    "                glState\n",
    "                {\n",
    "                    UV_CULL_FACE_ENABLE false\n",
    "                    UV_BLEND_ENABLE true\n",
    "                    UV_DEPTH_ENABLE false\n",
    "                    UV_WRITE_MASK_DEPTH true\n",
    "                    UV_BLEND_FUNC GL_SRC_ALPHA GL_ONE_MINUS_SRC_ALPHA\n",
    "                }\n",
    "            }\n",
    "\n",
    "        }    \n",
    "    }\n",
    "\n",
    "}\"\"\""
   ]
  },
  {
   "cell_type": "markdown",
   "metadata": {},
   "source": [
    "### Kilonova class"
   ]
  },
  {
   "cell_type": "code",
   "execution_count": 199,
   "metadata": {},
   "outputs": [],
   "source": [
    "class Kilonova():\n",
    "    def __init__(self, object):\n",
    "        self.object = object\n",
    "        uvmod.Utility.ensurerelativepathexsists(\"kilonova.gs\",dataFolder)\n",
    "        uvmod.Utility.ensurerelativepathexsists(\"kilonova.vs\",dataFolder)\n",
    "        uvmod.Utility.ensurerelativepathexsists(\"kilonova.fs\",dataFolder)\n",
    "        uvmod.Utility.ensurerelativepathexsists(\"NS.gs\",dataFolder)\n",
    "        uvmod.Utility.ensurerelativepathexsists(\"NS.fs\",dataFolder)\n",
    "#         uvmod.Utility.ensurerelativepathexsists(\"corona.fs\",dataFolder)\n",
    "        uvmod.Utility.ensurerelativepathexsists(\"GW.gs\",dataFolder)\n",
    "        uvmod.Utility.ensurerelativepathexsists(\"GW.gs\",dataFolder)\n",
    "        uvmod.Utility.ensurerelativepathexsists(\"GRB.gs\",dataFolder)\n",
    "        uvmod.Utility.ensurerelativepathexsists(\"GRB.fs\",dataFolder)\n",
    "        self.cr = 1000\n",
    "        self.Scale = 1\n",
    "\n",
    "    def generatemod(self):\n",
    "        self.object.setgeometry(self.object.name+\"Mesh.usesconf\")\n",
    "        return self.object.generatemod()\n",
    "    def generatefiles(self, absOutDir, relOutDir):\n",
    "        fileName = self.object.name+\"Mesh.usesconf\"\n",
    "        s = string.Template(Template)\n",
    "        f = open(absOutDir+\"\\\\\"+fileName, 'w')\n",
    "        if f:\n",
    "            f.write(s.substitute(folderName = relOutDir,\n",
    "                                 cr = self.cr,\n",
    "                                 Scale = self.Scale\n",
    "                                 ))\n",
    "            f.close()\n",
    "        uvmod.Utility.copyfoldercontents(os.getcwd()+\"\\\\\"+dataFolder, absOutDir)"
   ]
  },
  {
   "cell_type": "markdown",
   "metadata": {},
   "source": [
    "### Object Instantiation"
   ]
  },
  {
   "cell_type": "code",
   "execution_count": 200,
   "metadata": {},
   "outputs": [],
   "source": [
    "model = Kilonova(uvmod.OrbitalObject())\n",
    "generator = uvmod.Generator()\n",
    "scene = uvmod.Scene()\n",
    "modinfo = uvmod.ModuleInformation()"
   ]
  },
  {
   "cell_type": "markdown",
   "metadata": {},
   "source": [
    "### Specify Settings and generate the module"
   ]
  },
  {
   "cell_type": "code",
   "execution_count": 201,
   "metadata": {},
   "outputs": [],
   "source": [
    "model.object.setcameraradius(10)\n",
    "model.object.setcoord(\"Earth\")\n",
    "model.object.setname(\"Kilonova\")\n",
    "model.object.setguiname(\"/KavliLecture/Larson/Kilonova\")\n",
    "model.object.settargetradius(20)\n",
    "model.object.showatstartup(False)\n",
    "model.cr = 10000\n",
    "modinfo.setname(\"Kilonova\")\n",
    "modinfo.setauthor(\"Aaron Geller<sup>1</sup> and Shane Larson<sup>2</sup><br />(1)Adler Planetarium,br />(2)Northwestern University\")\n",
    "modinfo.cleardependencies()\n",
    "modinfo.setdesc(\"Uniview module for LIGO event GW170817\")\n",
    "#modinfo.setthumbnail(\"data/R0010133.JPG\")\n",
    "modinfo.setversion(\"1.0\")\n",
    "\n",
    "generator.generate(\"Kilonova\",[],[model],modinfo)\n",
    "uvmod.Utility.senduvcommand(model.object.name+\".reload\")"
   ]
  },
  {
   "cell_type": "markdown",
   "metadata": {},
   "source": [
    "## Helper Functions for modifing code\n",
    "*Reload Module and Shaders in Uniview*"
   ]
  },
  {
   "cell_type": "code",
   "execution_count": 172,
   "metadata": {},
   "outputs": [],
   "source": [
    "uvmod.Utility.senduvcommand(model.object.name+\".reload; system.reloadallshaders\")"
   ]
  },
  {
   "cell_type": "markdown",
   "metadata": {},
   "source": [
    "*Copy modified Shader files and reload*"
   ]
  },
  {
   "cell_type": "code",
   "execution_count": 42,
   "metadata": {},
   "outputs": [],
   "source": [
    "from config import Settings\n"
   ]
  },
  {
   "cell_type": "code",
   "execution_count": 44,
   "metadata": {},
   "outputs": [],
   "source": [
    "uvmod.Utility.copyfoldercontents(os.getcwd()+\"\\\\\"+dataFolder, Settings.uvcustommodulelocation+'\\\\'+model.object.name)\n",
    "uvmod.Utility.senduvcommand(model.object.name+\".reload\")"
   ]
  },
  {
   "cell_type": "code",
   "execution_count": null,
   "metadata": {
    "collapsed": true
   },
   "outputs": [],
   "source": []
  }
 ],
 "metadata": {
  "anaconda-cloud": {},
  "kernelspec": {
   "display_name": "Python 3",
   "language": "python",
   "name": "python3"
  },
  "language_info": {
   "codemirror_mode": {
    "name": "ipython",
    "version": 3
   },
   "file_extension": ".py",
   "mimetype": "text/x-python",
   "name": "python",
   "nbconvert_exporter": "python",
   "pygments_lexer": "ipython3",
   "version": "3.6.4"
  }
 },
 "nbformat": 4,
 "nbformat_minor": 1
}
